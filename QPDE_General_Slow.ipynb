{
  "cells": [
    {
      "cell_type": "markdown",
      "metadata": {
        "id": "1kQQuxm6USWe"
      },
      "source": [
        "# BM, N = 6\n"
      ]
    },
    {
      "cell_type": "code",
      "execution_count": 1,
      "metadata": {
        "id": "ri5r6bp3USWf"
      },
      "outputs": [],
      "source": [
        "import numpy as np\n",
        "import torch\n",
        "import torch.nn as nn\n",
        "import torch.nn.functional as F\n",
        "import torch.optim as optim\n",
        "from torch.optim.lr_scheduler import LambdaLR\n",
        "from tqdm import tqdm, trange\n",
        "from math import exp, sqrt, log\n",
        "import matplotlib.pyplot as plt\n",
        "from mpl_toolkits.mplot3d import Axes3D\n",
        "from scipy.special import i0, i1, iv\n",
        "from numpy import random\n",
        "from torch.nn.functional import normalize\n",
        "from torch.autograd.functional import hessian, jacobian"
      ]
    },
    {
      "cell_type": "code",
      "execution_count": null,
      "metadata": {
        "id": "dtgNI6YnUSWg"
      },
      "outputs": [],
      "source": [
        "#from torch.utils.tensorboard import SummaryWriter\n",
        "#writer = SummaryWriter()"
      ]
    },
    {
      "cell_type": "code",
      "execution_count": 2,
      "metadata": {
        "id": "K4unI4tqUSWg"
      },
      "outputs": [],
      "source": [
        "device = torch.device(\"cuda:0\" if torch.cuda.is_available() else \"cpu\")"
      ]
    },
    {
      "cell_type": "code",
      "execution_count": null,
      "metadata": {
        "colab": {
          "base_uri": "https://localhost:8080/"
        },
        "id": "yRJvSP9TUSWg",
        "outputId": "f38f3598-153a-4328-9586-521a405d0b59"
      },
      "outputs": [],
      "source": [
        "print(device)"
      ]
    },
    {
      "cell_type": "code",
      "execution_count": 3,
      "metadata": {
        "id": "j6OZ0n4ZUSWh"
      },
      "outputs": [],
      "source": [
        "class PDEQnet(nn.Module):\n",
        "  def __init__(self, dim, width, beta):\n",
        "    super(PDEQnet, self).__init__()\n",
        "    self.dim = dim\n",
        "    self.width = width\n",
        "    self.beta = beta\n",
        "\n",
        "    self.wb = nn.Linear(self.dim, self.width).to(device)\n",
        "    self.c = nn.Linear(self.width, 1, bias=False).to(device)\n",
        "\n",
        "  def forward(self, x):\n",
        "    x = self.wb(x)\n",
        "    x = torch.sigmoid(x)\n",
        "    x = self.c(x)\n",
        "    return x\n",
        "\n",
        "  def assign_value(self):\n",
        "    self.c.weight.data = torch.as_tensor(np.random.uniform(-1, 1, size=self.c.weight.shape), dtype=torch.float32).to(device)\n",
        "    self.wb.weight.data = torch.as_tensor(np.random.normal(0, 1, size=self.wb.weight.shape),  dtype=torch.float32).to(device)\n",
        "    self.wb.bias.data = torch.as_tensor(np.random.normal(0, 1, size=self.wb.bias.shape) ,dtype=torch.float32).to(device)\n"
      ]
    },
    {
      "cell_type": "code",
      "execution_count": 4,
      "metadata": {
        "id": "QKXV8Kj3USWi"
      },
      "outputs": [],
      "source": [
        "# Parameters\n",
        "dim = 2\n",
        "gamma = 0.2\n",
        "\n",
        "#d = [1 for i in range(dim)]\n",
        "\n",
        "# Hyper parameters\n",
        "N = 2**8\n",
        "beta = 0.5+0.01\n",
        "# Learning rate\n",
        "initial_lr = 0.05 * N**(2*beta-1)\n",
        "\n",
        "# Auxiliary functions\n",
        "def eta(x):\n",
        "  if len(x.shape)>1:\n",
        "    return 1.0 - torch.sum(torch.pow(x,2), dim=1)\n",
        "  else:\n",
        "    return 1.0 - torch.sum(torch.pow(x,2))\n",
        "\n",
        "# def r(x):\n",
        "#   return 1.0+0*x[:,0]\n",
        "\n",
        "def Loperator(x, u, Du, DDu):\n",
        "  laplacian= torch.diagonal(DDu, dim1=1,dim2=2).sum() #Useful if we were to calculate the second derivative fully, which might not be needed\n",
        "  return 1.0 - gamma*u + laplacian\n",
        "# Monte Carlo\n",
        "\n",
        "def f(x): #Boundary value\n",
        "  return 0\n",
        "\n",
        "Nmc = 1000\n",
        "\n",
        "# Default type\n",
        "torch.set_default_tensor_type('torch.cuda.FloatTensor')"
      ]
    },
    {
      "cell_type": "code",
      "execution_count": 6,
      "metadata": {
        "id": "pAobmnpKUSWi"
      },
      "outputs": [],
      "source": [
        "# Q fit, fixed grid\n",
        "qnet = PDEQnet(dim, N, beta).to(device)"
      ]
    },
    {
      "cell_type": "code",
      "execution_count": 7,
      "metadata": {},
      "outputs": [],
      "source": [
        "qnet.assign_value()\n",
        "\n",
        "# Num of epoch\n",
        "Num_epo = 2000\n",
        "\n",
        "# Loss level\n",
        "loss_list = []\n",
        "\n",
        "# Optmizer, scheduler\n",
        "Qoptimizer = optim.RMSprop(qnet.parameters(), lr = initial_lr, alpha = 0.99, eps = 1e-08)\n",
        "Qscheduler = LambdaLR(Qoptimizer, lr_lambda= lambda epoch: initial_lr/(1+(epoch//500)))"
      ]
    },
    {
      "cell_type": "code",
      "execution_count": null,
      "metadata": {},
      "outputs": [],
      "source": [
        "  source = torch.randn(size=(Nmc, dim))\n",
        "  source = normalize(source, p=2.0) #Normalize to sphere\n",
        "  radius = torch.rand(size = (Nmc,1))\n",
        "  radius = torch.pow(torch.rand(size = (Nmc,1)),1/dim)\n",
        "  source = radius*source #renormalize\n",
        "  x=source.requires_grad_(True)\n",
        " \n",
        "\n",
        "  # Net output\n",
        "  def u_fun(x):\n",
        "      return eta(x)*qnet(x).reshape(-1) + (1.0-eta(x))*f(x)\n",
        "\n",
        "  #Calculate derivatives\n",
        "  Du = torch.stack(tuple(jacobian(u_fun, x[i]) for i in range(x.shape[0])))\n",
        "  DDu = torch.stack(tuple(hessian(u_fun, x[i]) for i in range(x.shape[0])))\n",
        "  \n",
        "  # Q-learning\n",
        "  Lu = Loperator(x, u, Du, DDu).clone().detach()\n",
        "  loss_to_min = torch.dot(-Lu, u_fun(x))\n",
        "\n"
      ]
    },
    {
      "cell_type": "code",
      "execution_count": 9,
      "metadata": {},
      "outputs": [
        {
          "name": "stderr",
          "output_type": "stream",
          "text": [
            "100%|██████████| 100/100 [05:23<00:00,  3.24s/it]\n"
          ]
        }
      ],
      "source": [
        "#Training algorithm, main\n",
        "\n",
        "# initialization of PDEQnet paramters\n",
        "qnet.assign_value()\n",
        "\n",
        "# Num of epoch\n",
        "Num_epo = 100\n",
        "\n",
        "# Loss level\n",
        "loss_list = []\n",
        "\n",
        "# Optmizer, scheduler\n",
        "Qoptimizer = optim.RMSprop(qnet.parameters(), lr = initial_lr, alpha = 0.99, eps = 1e-08)\n",
        "Qscheduler = LambdaLR(Qoptimizer, lr_lambda= lambda epoch: initial_lr/(1+(epoch//500)))\n",
        "\n",
        "# Training\n",
        "for count in trange(Num_epo):\n",
        "\n",
        "\n",
        "  # Sample points\n",
        "\n",
        "  source = torch.randn(size=(Nmc, dim))\n",
        "  source = normalize(source, p=2.0) #Normalize to sphere\n",
        "  radius = torch.rand(size = (Nmc,1))\n",
        "  radius = torch.pow(torch.rand(size = (Nmc,1)),1/dim)\n",
        "  source = radius*source #renormalize\n",
        "  x=source.requires_grad_(True)\n",
        " \n",
        "\n",
        "  # Net output\n",
        "  def u_fun(x):\n",
        "      return eta(x)*qnet(x).reshape(-1) + (1.0-eta(x))*f(x)\n",
        "\n",
        "  #Calculate derivatives\n",
        "  Du = torch.stack(tuple(jacobian(u_fun, x[i]) for i in range(x.shape[0])))\n",
        "  DDu = torch.stack(tuple(hessian(u_fun, x[i]) for i in range(x.shape[0])))\n",
        "  \n",
        "  # Q-learning\n",
        "  Lu = Loperator(x, u_fun(x), Du, DDu).clone().detach()\n",
        "  loss_to_min = torch.dot(-Lu, u_fun(x))\n",
        "\n",
        "\n",
        "  #with torch.cuda.stream(s):\n",
        "  Qoptimizer.zero_grad()\n",
        "  loss_to_min.backward()\n",
        "  Qoptimizer.step()\n",
        "  Qscheduler.step()\n",
        "\n",
        "  #torch.cuda.current_stream().wait_stream(s)\n",
        "\n",
        "  loss = float(torch.sum(torch.pow(Lu,2)))\n",
        "  loss /= Nmc\n",
        "  loss_list.append(loss)\n",
        "  #writer.add_scalar('loss', loss)\n"
      ]
    },
    {
      "cell_type": "code",
      "execution_count": 11,
      "metadata": {
        "id": "lT6HSkdEUSWm"
      },
      "outputs": [],
      "source": [
        "#model_save_name = 'BM, 6d, 30k epochs.pkl'\n",
        "#path = F\"/content/{model_save_name}\" \n",
        "#torch.save(qnet.state_dict(), path)\n",
        "%matplotlib qt"
      ]
    },
    {
      "cell_type": "code",
      "execution_count": 12,
      "metadata": {
        "colab": {
          "base_uri": "https://localhost:8080/",
          "height": 307
        },
        "id": "w2IaSkcpUSWm",
        "outputId": "45aee8d8-4ee4-486a-edcc-192a4d2b18e0"
      },
      "outputs": [],
      "source": [
        "# Loss level\n",
        "plt.figure(figsize=(7,4.5))\n",
        "#ax = fig.add_subplot(1, 2, 1)\n",
        "axis=[i for i in range(Num_epo)]\n",
        "plt.xlabel('Number of epochs')\n",
        "plt.ylabel('Loss level')\n",
        "plt.yscale('log') \n",
        "fig1 = plt.plot(axis,loss_list,'blue')"
      ]
    },
    {
      "cell_type": "code",
      "execution_count": 13,
      "metadata": {
        "id": "Kseai8SHUSWq"
      },
      "outputs": [],
      "source": [
        "# Plotting part 1: # Check if the approximator is symmetric\n",
        "Nmc = 400\n",
        "mesh = 1000\n",
        "\n",
        "test_axis = [i/mesh for i in range(1,mesh+1)]\n",
        "relative_err_list = []\n",
        "approx_list = []\n",
        "sq_list = []\n",
        "exact_list = []\n",
        "\n",
        "radius = 1.0\n",
        "for x in test_axis:\n",
        "  exact = (1 - iv(2, sqrt(2*gamma)*x)/(x*x*iv(2, sqrt(2*gamma))))/gamma\n",
        "  exact_list.append(exact)\n",
        "  test_source = random.normal(0, 1, size=(Nmc//10, dim))\n",
        "  test_source = torch.Tensor(test_source)\n",
        "  test_source = normalize(test_source, p=2.0)\n",
        "  test_source = x * test_source\n",
        "\n",
        "  test_grid_list = []\n",
        "  for i in range(dim):\n",
        "    ent = [[u] for u in test_source[:,i]]\n",
        "    ent = torch.tensor(ent, requires_grad = True).to(device)\n",
        "    test_grid_list.append(ent)\n",
        "  test_grid_tuple = tuple(test_grid_list)\n",
        "  test_grid = torch.cat(test_grid_tuple, 1).to(device)\n",
        "\n",
        "  test_out = qnet(test_grid).to(device)\n",
        "\n",
        "# Tensor reshape\n",
        "  test_out_r =  torch.reshape(test_out, (-1,)).to(device)\n",
        "  test_l = test_out_r*eta(test_grid)\n",
        "\n",
        "  sq_list.append(float(torch.dot(test_l-exact, test_l-exact)))\n",
        "  relative_err_list.append(float(torch.max(abs(exact - test_l)/exact)))\n",
        "  #relative_err_list.append(100*float(torch.mean(abs(exact - test_l))))\n",
        "  approx_list.append(float(torch.mean(test_l)))"
      ]
    },
    {
      "cell_type": "code",
      "execution_count": null,
      "metadata": {
        "id": "goz-5zTXUSWr"
      },
      "outputs": [],
      "source": [
        "# Plotting part 2\n",
        "# Scatter plot #Test: the solution vs the approximator\n",
        "scatter_axis = test_axis * (Nmc//10)\n",
        "relative_err_list = []\n",
        "approx_list = []\n",
        "std_list = []\n",
        "\n",
        "\n",
        "for x in scatter_axis:\n",
        "  test_source = random.normal(0, 1, size=(1, dim))\n",
        "  test_source = torch.Tensor(test_source)\n",
        "  test_source = normalize(test_source, p=2.0)\n",
        "  test_source = x * test_source\n",
        "\n",
        "  test_grid_list = []\n",
        "  for i in range(dim):\n",
        "    ent = [[u] for u in test_source[:,i]]\n",
        "    ent = torch.tensor(ent, requires_grad = True).to(device)\n",
        "    test_grid_list.append(ent)\n",
        "  test_grid_tuple = tuple(test_grid_list)\n",
        "  test_grid = torch.cat(test_grid_tuple, 1).to(device)\n",
        "\n",
        "  test_out = qnet(test_grid).to(device)\n",
        "\n",
        "# Tensor reshape\n",
        "  test_out_r =  torch.reshape(test_out, (-1,)).to(device)\n",
        "  test_l = test_out_r*eta(test_grid)\n",
        "  approx_list.append(float(torch.mean(test_l)))\n"
      ]
    },
    {
      "cell_type": "code",
      "execution_count": null,
      "metadata": {
        "colab": {
          "base_uri": "https://localhost:8080/",
          "height": 386
        },
        "id": "xpG0aEc_USWr",
        "outputId": "bed5dbd3-676d-47bd-907a-0ffbf1dd8c1d"
      },
      "outputs": [],
      "source": [
        "# Exact vs Approximate\n",
        "fig = plt.figure()\n",
        "ax = fig.add_subplot()\n",
        "ax.set_xlabel('Distance from the Origin')\n",
        "ax.set_ylabel('Value function')\n",
        "ax.set_title('Solution of the PDE')\n",
        "ax.scatter(scatter_axis, approx_list, s= .2, label = 'Approximated solution')\n",
        "ax.plot(test_axis, exact_list,'red', label = 'Exact solution')\n",
        "ax.legend()\n",
        "axins = ax.inset_axes([0.05,0.05, 0.5, 0.5])\n",
        "scatter_data_zoom = [approx_list[i] for i in range(len(scatter_axis)) if (0.48 < scatter_axis[i]  < 0.51)]\n",
        "scatter_axis_zoom = [item for item in scatter_axis if (0.48 < item < 0.51)]\n",
        "line_data_zoom = [exact_list[i] for i in range(len(test_axis)) if (0.48 < test_axis[i] < 0.51)]\n",
        "line_axis_zoom = [item for item in test_axis if (0.48 < item < 0.51)]\n",
        "axins.scatter(scatter_axis_zoom, scatter_data_zoom, s=.1)\n",
        "axins.plot(line_axis_zoom, line_data_zoom, 'red')\n",
        "axins.set_xticks([])\n",
        "axins.set_yticks([])\n",
        "ax.indicate_inset_zoom(axins)"
      ]
    },
    {
      "cell_type": "code",
      "execution_count": null,
      "metadata": {
        "colab": {
          "base_uri": "https://localhost:8080/",
          "height": 313
        },
        "id": "xW8Sgs6-USWs",
        "outputId": "3d81ed9d-19c1-48d4-9bb4-d407d4ccf9c6"
      },
      "outputs": [],
      "source": [
        "# Mean square error\n",
        "plt.xlabel('Distance from the Origin')\n",
        "plt.ylabel('Mean square error')\n",
        "plt.scatter(test_axis, sq_list,color = 'blue', s= .2)\n",
        "plt.title('Mean square error of the approximator')"
      ]
    },
    {
      "cell_type": "code",
      "execution_count": null,
      "metadata": {
        "colab": {
          "base_uri": "https://localhost:8080/",
          "height": 313
        },
        "id": "1V_Z4lt8USWt",
        "outputId": "1583f032-024e-4b28-ad6b-1e8ade85453f"
      },
      "outputs": [],
      "source": [
        "# Max relative error\n",
        "plt.xlabel('Distance from the Origin')\n",
        "plt.ylabel('Percentage')\n",
        "plt.scatter(test_axis, relative_err_list, s=0.2, color='gray',)\n",
        "plt.gca().set_yticklabels([f'{x:.2%}' for x in plt.gca().get_yticks()]) \n",
        "plt.title('MaxRelative error in percentage')"
      ]
    }
  ],
  "metadata": {
    "accelerator": "GPU",
    "colab": {
      "collapsed_sections": [],
      "name": "Q-PDE playground.ipynb",
      "provenance": []
    },
    "kernelspec": {
      "display_name": "Python 3",
      "name": "python3"
    },
    "language_info": {
      "codemirror_mode": {
        "name": "ipython",
        "version": 3
      },
      "file_extension": ".py",
      "mimetype": "text/x-python",
      "name": "python",
      "nbconvert_exporter": "python",
      "pygments_lexer": "ipython3",
      "version": "3.8.3"
    }
  },
  "nbformat": 4,
  "nbformat_minor": 0
}
